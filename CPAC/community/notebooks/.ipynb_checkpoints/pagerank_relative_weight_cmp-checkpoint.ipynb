{
 "cells": [
  {
   "cell_type": "code",
   "execution_count": 3,
   "metadata": {
    "collapsed": true
   },
   "outputs": [],
   "source": [
    "import networkx as nx\n",
    "import numpy as np\n",
    "import pandas as pd"
   ]
  },
  {
   "cell_type": "code",
   "execution_count": 5,
   "metadata": {
    "collapsed": true
   },
   "outputs": [],
   "source": [
    "graph=nx.karate_club_graph()"
   ]
  },
  {
   "cell_type": "markdown",
   "metadata": {},
   "source": [
    ">For undirected networks, the node visit frequency of node $\\alpha$ simply corresponds to the relative weight $\\omega_\\alpha$ of the links connected to the node. The relative weight is the total weight of the links connected to the node divided by twice the total weight of all links in the network, which corres􏰓ponds to the total weight of all link-ends. <cite>(Rosvall, M., Axelsson, D., & Bergstrom, C. T. (2010). The map equation. The European Physical Journal Special Topics, 178(1), 13–23.)</cite>\n",
    "\n",
    "In our case this is further simplified as the graph is not directed (weights are implicitly 1).\n",
    "This makes in priciple the computation of page rank obsolete as the node visit frequencies are given by the relative weight. The computation of the exit node probability\n",
    "$q_{i\\curvearrowright} = \\tau \\frac{n-n_i}{n} \\sum_{\\alpha\\in i} p_\\alpha + (1 -\\tau ) \\sum_{\\alpha \\in i} \\sum_{\\beta \\notin i} p_\\alpha  \\omega_{\\alpha\\beta}$ would also be simplified as $q_{i\\curvearrowright}$ becomes $\\omega_{\\curvearrowright}$: \n",
    "\n",
    "$\\omega_{i\\curvearrowright}$ for the relative weight of links exiting module $i$, and then $\\omega_{\\curvearrowright}􏰐 = \\sum_{i=1}^{m} \\omega_{i\\curvearrowright}􏰐$ for the total relative weight of links between modules.\n",
    "\n",
    "However, ommiting the pagerank calculation could potentially complicate other things down the road as maybe later we would like to use directed graphs and it introduces additional logic as opposed to one short method call (as exemplified in the cell below).\n",
    "\n",
    "So there is a tradeoff to be made. The table bewlow shows the difference between the two approaches exemplified by using the infamous karate network. The question is if these differences are neglecable."
   ]
  },
  {
   "cell_type": "code",
   "execution_count": 1,
   "metadata": {
    "collapsed": false
   },
   "outputs": [
    {
     "ename": "SyntaxError",
     "evalue": "invalid syntax (<ipython-input-1-d2e62a55fc00>, line 1)",
     "output_type": "error",
     "traceback": [
      "\u001b[0;36m  File \u001b[0;32m\"<ipython-input-1-d2e62a55fc00>\"\u001b[0;36m, line \u001b[0;32m1\u001b[0m\n\u001b[0;31m    $\\omega_{i\\curvearrowright}$ for the relative weight of links exiting module $i$, and then $\\omega_{\\curvearrowright}􏰐 = \\sum_{i=1}^{m} \\omega_{i\\curvearrowright}􏰐$ for the total relative weight of links between modules\u001b[0m\n\u001b[0m    ^\u001b[0m\n\u001b[0;31mSyntaxError\u001b[0m\u001b[0;31m:\u001b[0m invalid syntax\n"
     ]
    }
   ],
   "source": [
    "$\\omega_{i\\curvearrowright}$ for the relative weight of links exiting module $i$, and then $\\omega_{\\curvearrowright}􏰐 = \\sum_{i=1}^{m} \\omega_{i\\curvearrowright}􏰐$ for the total relative weight of links between modules"
   ]
  },
  {
   "cell_type": "code",
   "execution_count": 6,
   "metadata": {
    "collapsed": true
   },
   "outputs": [],
   "source": [
    "page_rank=nx.pagerank(graph).values()"
   ]
  },
  {
   "cell_type": "code",
   "execution_count": 10,
   "metadata": {
    "collapsed": false
   },
   "outputs": [],
   "source": [
    " relative_weight = [float(graph.degree(i))/sum(graph.degree().values()) for i in graph]"
   ]
  },
  {
   "cell_type": "code",
   "execution_count": 38,
   "metadata": {
    "collapsed": false
   },
   "outputs": [],
   "source": [
    "difference=map(lambda x, y: abs(x-y), page_rank, relative_weight)"
   ]
  },
  {
   "cell_type": "code",
   "execution_count": 57,
   "metadata": {
    "collapsed": false
   },
   "outputs": [
    {
     "data": {
      "text/html": [
       "<div>\n",
       "<table border=\"1\" class=\"dataframe\">\n",
       "  <thead>\n",
       "    <tr style=\"text-align: right;\">\n",
       "      <th></th>\n",
       "      <th>Absolute differences pagerank vs. relative weight (true empirical value)</th>\n",
       "    </tr>\n",
       "  </thead>\n",
       "  <tbody>\n",
       "    <tr>\n",
       "      <th>0</th>\n",
       "      <td>0.005562</td>\n",
       "    </tr>\n",
       "    <tr>\n",
       "      <th>1</th>\n",
       "      <td>0.004814</td>\n",
       "    </tr>\n",
       "    <tr>\n",
       "      <th>2</th>\n",
       "      <td>0.007024</td>\n",
       "    </tr>\n",
       "    <tr>\n",
       "      <th>3</th>\n",
       "      <td>0.002601</td>\n",
       "    </tr>\n",
       "    <tr>\n",
       "      <th>4</th>\n",
       "      <td>0.002749</td>\n",
       "    </tr>\n",
       "    <tr>\n",
       "      <th>5</th>\n",
       "      <td>0.003472</td>\n",
       "    </tr>\n",
       "    <tr>\n",
       "      <th>6</th>\n",
       "      <td>0.003472</td>\n",
       "    </tr>\n",
       "    <tr>\n",
       "      <th>7</th>\n",
       "      <td>0.001150</td>\n",
       "    </tr>\n",
       "    <tr>\n",
       "      <th>8</th>\n",
       "      <td>0.002286</td>\n",
       "    </tr>\n",
       "    <tr>\n",
       "      <th>9</th>\n",
       "      <td>0.001488</td>\n",
       "    </tr>\n",
       "    <tr>\n",
       "      <th>10</th>\n",
       "      <td>0.002749</td>\n",
       "    </tr>\n",
       "    <tr>\n",
       "      <th>11</th>\n",
       "      <td>0.003155</td>\n",
       "    </tr>\n",
       "    <tr>\n",
       "      <th>12</th>\n",
       "      <td>0.001825</td>\n",
       "    </tr>\n",
       "    <tr>\n",
       "      <th>13</th>\n",
       "      <td>0.002515</td>\n",
       "    </tr>\n",
       "    <tr>\n",
       "      <th>14</th>\n",
       "      <td>0.001715</td>\n",
       "    </tr>\n",
       "    <tr>\n",
       "      <th>15</th>\n",
       "      <td>0.001715</td>\n",
       "    </tr>\n",
       "    <tr>\n",
       "      <th>16</th>\n",
       "      <td>0.003965</td>\n",
       "    </tr>\n",
       "    <tr>\n",
       "      <th>17</th>\n",
       "      <td>0.001738</td>\n",
       "    </tr>\n",
       "    <tr>\n",
       "      <th>18</th>\n",
       "      <td>0.001715</td>\n",
       "    </tr>\n",
       "    <tr>\n",
       "      <th>19</th>\n",
       "      <td>0.000374</td>\n",
       "    </tr>\n",
       "    <tr>\n",
       "      <th>20</th>\n",
       "      <td>0.001715</td>\n",
       "    </tr>\n",
       "    <tr>\n",
       "      <th>21</th>\n",
       "      <td>0.001738</td>\n",
       "    </tr>\n",
       "    <tr>\n",
       "      <th>22</th>\n",
       "      <td>0.001715</td>\n",
       "    </tr>\n",
       "    <tr>\n",
       "      <th>23</th>\n",
       "      <td>0.000530</td>\n",
       "    </tr>\n",
       "    <tr>\n",
       "      <th>24</th>\n",
       "      <td>0.001845</td>\n",
       "    </tr>\n",
       "    <tr>\n",
       "      <th>25</th>\n",
       "      <td>0.001775</td>\n",
       "    </tr>\n",
       "    <tr>\n",
       "      <th>26</th>\n",
       "      <td>0.002223</td>\n",
       "    </tr>\n",
       "    <tr>\n",
       "      <th>27</th>\n",
       "      <td>0.000002</td>\n",
       "    </tr>\n",
       "    <tr>\n",
       "      <th>28</th>\n",
       "      <td>0.000342</td>\n",
       "    </tr>\n",
       "    <tr>\n",
       "      <th>29</th>\n",
       "      <td>0.000646</td>\n",
       "    </tr>\n",
       "    <tr>\n",
       "      <th>30</th>\n",
       "      <td>0.001052</td>\n",
       "    </tr>\n",
       "    <tr>\n",
       "      <th>31</th>\n",
       "      <td>0.001305</td>\n",
       "    </tr>\n",
       "    <tr>\n",
       "      <th>32</th>\n",
       "      <td>0.005231</td>\n",
       "    </tr>\n",
       "    <tr>\n",
       "      <th>33</th>\n",
       "      <td>0.008056</td>\n",
       "    </tr>\n",
       "  </tbody>\n",
       "</table>\n",
       "</div>"
      ],
      "text/plain": [
       "    Absolute differences pagerank vs. relative weight (true empirical value)\n",
       "0                                            0.005562                       \n",
       "1                                            0.004814                       \n",
       "2                                            0.007024                       \n",
       "3                                            0.002601                       \n",
       "4                                            0.002749                       \n",
       "5                                            0.003472                       \n",
       "6                                            0.003472                       \n",
       "7                                            0.001150                       \n",
       "8                                            0.002286                       \n",
       "9                                            0.001488                       \n",
       "10                                           0.002749                       \n",
       "11                                           0.003155                       \n",
       "12                                           0.001825                       \n",
       "13                                           0.002515                       \n",
       "14                                           0.001715                       \n",
       "15                                           0.001715                       \n",
       "16                                           0.003965                       \n",
       "17                                           0.001738                       \n",
       "18                                           0.001715                       \n",
       "19                                           0.000374                       \n",
       "20                                           0.001715                       \n",
       "21                                           0.001738                       \n",
       "22                                           0.001715                       \n",
       "23                                           0.000530                       \n",
       "24                                           0.001845                       \n",
       "25                                           0.001775                       \n",
       "26                                           0.002223                       \n",
       "27                                           0.000002                       \n",
       "28                                           0.000342                       \n",
       "29                                           0.000646                       \n",
       "30                                           0.001052                       \n",
       "31                                           0.001305                       \n",
       "32                                           0.005231                       \n",
       "33                                           0.008056                       "
      ]
     },
     "execution_count": 57,
     "metadata": {},
     "output_type": "execute_result"
    }
   ],
   "source": [
    "pd.DataFrame(difference, columns=['Absolute differences pagerank vs. relative weight (true empirical value)'])\n"
   ]
  }
 ],
 "metadata": {
  "kernelspec": {
   "display_name": "Python 2",
   "language": "python",
   "name": "python2"
  },
  "language_info": {
   "codemirror_mode": {
    "name": "ipython",
    "version": 2
   },
   "file_extension": ".py",
   "mimetype": "text/x-python",
   "name": "python",
   "nbconvert_exporter": "python",
   "pygments_lexer": "ipython2",
   "version": "2.7.10"
  }
 },
 "nbformat": 4,
 "nbformat_minor": 0
}
